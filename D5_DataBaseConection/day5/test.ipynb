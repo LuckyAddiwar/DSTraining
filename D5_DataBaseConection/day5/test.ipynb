{
 "cells": [
  {
   "cell_type": "code",
   "execution_count": 1,
   "metadata": {},
   "outputs": [],
   "source": [
    "import sqlite3"
   ]
  },
  {
   "cell_type": "code",
   "execution_count": 2,
   "metadata": {},
   "outputs": [],
   "source": [
    "conn = sqlite3.connect(\"sms.db\")"
   ]
  },
  {
   "cell_type": "code",
   "execution_count": 3,
   "metadata": {},
   "outputs": [],
   "source": [
    "cur = conn.cursor()"
   ]
  },
  {
   "cell_type": "code",
   "execution_count": 5,
   "metadata": {},
   "outputs": [],
   "source": [
    "cur.execute('''\n",
    "            CREATE TABLE STUDENT(\n",
    "            SID INT,\n",
    "            SNAME CHAR(40),\n",
    "            EMAIL VARCHAR(60),\n",
    "            CITY CHAR(40)\n",
    "            )''')\n",
    "conn.commit()"
   ]
  },
  {
   "cell_type": "code",
   "execution_count": 6,
   "metadata": {},
   "outputs": [],
   "source": [
    "cur.execute('''\n",
    "            CREATE TABLE COURSE(\n",
    "            CID INT,\n",
    "            COURSENAME CHAR(40),\n",
    "            SID INT,\n",
    "            PRICE FLOAT\n",
    "            )''')\n",
    "conn.commit()"
   ]
  },
  {
   "cell_type": "code",
   "execution_count": 7,
   "metadata": {},
   "outputs": [],
   "source": [
    "cur.execute('''\n",
    "            CREATE TABLE TRANSCATION(\n",
    "            TID INT,\n",
    "            SID INT,\n",
    "            CID INT,\n",
    "            PRICE FLOAT\n",
    "            )''')\n",
    "conn.commit()"
   ]
  }
 ],
 "metadata": {
  "kernelspec": {
   "display_name": "Python 3",
   "language": "python",
   "name": "python3"
  },
  "language_info": {
   "codemirror_mode": {
    "name": "ipython",
    "version": 3
   },
   "file_extension": ".py",
   "mimetype": "text/x-python",
   "name": "python",
   "nbconvert_exporter": "python",
   "pygments_lexer": "ipython3",
   "version": "3.11.9"
  }
 },
 "nbformat": 4,
 "nbformat_minor": 2
}

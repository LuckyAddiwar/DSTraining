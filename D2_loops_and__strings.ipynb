{
  "cells": [
    {
      "cell_type": "code",
      "execution_count": null,
      "metadata": {
        "colab": {
          "base_uri": "https://localhost:8080/"
        },
        "id": "TVQD3WIeVuh8",
        "outputId": "70f4fc3a-4369-4f23-9a8f-1a908b286eae"
      },
      "outputs": [
        {
          "data": {
            "text/plain": [
              "[6, 6]"
            ]
          },
          "execution_count": 21,
          "metadata": {},
          "output_type": "execute_result"
        }
      ],
      "source": [
        "x=\"Hello coders I am coding\"\n",
        "ls=[]\n",
        "d=0\n",
        "for i in x:\n",
        "  if i=='c':\n",
        "    d=x.index(i)\n",
        "    ls.append(d)\n",
        "d=d+1\n",
        "ls"
      ]
    },
    {
      "cell_type": "code",
      "execution_count": null,
      "metadata": {
        "id": "XIMRnvsp6ctd"
      },
      "outputs": [],
      "source": [
        "x=\"Hello coders I am coding\"\n",
        "ls=[]\n",
        "p=0\n",
        "for i in range(x.count(\"c\")):\n",
        "    p=x.index('c',p+1)\n",
        "    ls.append(p)\n",
        "ls"
      ]
    },
    {
      "cell_type": "code",
      "execution_count": null,
      "metadata": {
        "colab": {
          "base_uri": "https://localhost:8080/"
        },
        "id": "YvIXtFO_G51O",
        "outputId": "ae2344d9-5407-4877-a942-06cbb7bab1a2"
      },
      "outputs": [
        {
          "name": "stdout",
          "output_type": "stream",
          "text": [
            "1 2\n",
            "2 3\n",
            "3 4\n",
            "4 2\n",
            "5 1\n",
            "6 2\n"
          ]
        }
      ],
      "source": [
        "ls=[1,2,3,4,3,2,3,1,5,6,6,4,3,2]\n",
        "l=[]\n",
        "for i in ls:\n",
        "  if i not in l:\n",
        "    l.append(i)\n",
        "for i in l:\n",
        "    print(i,ls.count(i))\n",
        "\n"
      ]
    },
    {
      "cell_type": "code",
      "execution_count": null,
      "metadata": {
        "colab": {
          "base_uri": "https://localhost:8080/"
        },
        "id": "Pn1zk8v1Hgz-",
        "outputId": "a1327bfd-cab8-40a2-e9f9-a73a1ed9dd0d"
      },
      "outputs": [
        {
          "name": "stdout",
          "output_type": "stream",
          "text": [
            "{1: 'Blue', 2: 'red', 3: 'green'}\n"
          ]
        }
      ],
      "source": [
        "s = [\"Blue\", \"red\", \"green\"]\n",
        "d = {}\n",
        "\n",
        "for i in range(len(s)):\n",
        "    d[i+1] = s[i]\n",
        "\n",
        "print(d)"
      ]
    },
    {
      "cell_type": "markdown",
      "metadata": {
        "id": "OmYewg2kWhqT"
      },
      "source": [
        "1.Write a Python program to check if a given number is even or odd."
      ]
    },
    {
      "cell_type": "code",
      "execution_count": null,
      "metadata": {
        "colab": {
          "base_uri": "https://localhost:8080/"
        },
        "id": "l5wotA7uM5m0",
        "outputId": "f8179d9e-cc57-4676-e10c-329c890cd084"
      },
      "outputs": [
        {
          "name": "stdout",
          "output_type": "stream",
          "text": [
            "18 is even\n"
          ]
        }
      ],
      "source": [
        "def even_or_odd(n):\n",
        "  if n%2!=0:\n",
        "    print(f\"{n} is odd\")\n",
        "  else:\n",
        "    print(f\"{n} is even\")\n",
        "even_or_odd(18)"
      ]
    },
    {
      "cell_type": "markdown",
      "metadata": {
        "id": "2KaRKOiKWkUW"
      },
      "source": [
        "2. Write a Python program to find the largest among three given numbers."
      ]
    },
    {
      "cell_type": "code",
      "execution_count": null,
      "metadata": {
        "colab": {
          "base_uri": "https://localhost:8080/"
        },
        "id": "P_dH9ZBzWjqZ",
        "outputId": "01fb0d2c-3dd2-4089-9c1b-8f0a5f11a172"
      },
      "outputs": [
        {
          "name": "stdout",
          "output_type": "stream",
          "text": [
            "7 is greater than 2,1\n"
          ]
        }
      ],
      "source": [
        "def largest(x,y,z):\n",
        "  if x > y and x > z:\n",
        "    print(f\"{x} is greater than {y},{z}\")\n",
        "  elif y > x and y > z:\n",
        "    print(f\"{y} is greater than {x},{z}\")\n",
        "  else:\n",
        "    print(f\"{z} is greater than {x},{y}\")\n",
        "largest(2,1,7)\n"
      ]
    },
    {
      "cell_type": "markdown",
      "metadata": {
        "id": "zZW9-_O1Wqf3"
      },
      "source": [
        "3. Write a Python program to calculate the sum of all the elements in a list."
      ]
    },
    {
      "cell_type": "code",
      "execution_count": null,
      "metadata": {
        "colab": {
          "base_uri": "https://localhost:8080/"
        },
        "id": "cpQdx_FXZz1Z",
        "outputId": "47acea49-2a20-4e80-eb8a-54c4d8498061"
      },
      "outputs": [
        {
          "name": "stdout",
          "output_type": "stream",
          "text": [
            "24\n"
          ]
        }
      ],
      "source": [
        "ls=[1,2,3,4,5,2,3,4]\n",
        "def add_list(ls):\n",
        "  sum=0\n",
        "  for i in ls:\n",
        "    sum=sum+i\n",
        "  return sum\n",
        "y=add_list(ls)\n",
        "print(y)\n"
      ]
    },
    {
      "cell_type": "markdown",
      "metadata": {
        "id": "nkg11ISzWvvp"
      },
      "source": [
        "4. Write a Python program to find the factorial of a given number."
      ]
    },
    {
      "cell_type": "code",
      "execution_count": null,
      "metadata": {
        "colab": {
          "base_uri": "https://localhost:8080/"
        },
        "id": "NVUOumP0blyL",
        "outputId": "7779d4ce-dda4-40b9-ff54-602d5796f960"
      },
      "outputs": [
        {
          "name": "stdout",
          "output_type": "stream",
          "text": [
            "120\n"
          ]
        }
      ],
      "source": [
        "def factorial(n):\n",
        "  if n==1 or n==0:\n",
        "    s=1\n",
        "  else:\n",
        "    s=n*factorial(n-1)\n",
        "  return s\n",
        "f=factorial(5)\n",
        "print(f)"
      ]
    },
    {
      "cell_type": "markdown",
      "metadata": {
        "id": "p7KRh7bpW2Za"
      },
      "source": [
        "5. Write a Python program to check if a given string is a palindrome (i.e., reads the\n",
        "same forwards and backwards)."
      ]
    },
    {
      "cell_type": "code",
      "execution_count": null,
      "metadata": {
        "colab": {
          "base_uri": "https://localhost:8080/"
        },
        "id": "cceHkyX4eb3J",
        "outputId": "089ea3bb-7cfd-4868-89d9-df6fd9512b5d"
      },
      "outputs": [
        {
          "name": "stdout",
          "output_type": "stream",
          "text": [
            "MDAM is not palindrome\n"
          ]
        }
      ],
      "source": [
        "def palindrome(str):\n",
        "  reverse=str[::-1]\n",
        "  if reverse==str:\n",
        "    print(f\"{str} is palindrome\")\n",
        "  else:\n",
        "    print(f\"{str} is not palindrome\")\n",
        "palindrome(\"MDAM\")"
      ]
    },
    {
      "cell_type": "code",
      "execution_count": null,
      "metadata": {
        "colab": {
          "base_uri": "https://localhost:8080/",
          "height": 35
        },
        "id": "hJXZPTOxfGwm",
        "outputId": "619cd080-15c1-4caf-8784-7c071f7ce37f"
      },
      "outputs": [
        {
          "data": {
            "application/vnd.google.colaboratory.intrinsic+json": {
              "type": "string"
            },
            "text/plain": [
              "'yes'"
            ]
          },
          "execution_count": 78,
          "metadata": {},
          "output_type": "execute_result"
        }
      ],
      "source": [
        "def palindrome(str):\n",
        "  le=len(str)\n",
        "  for i in  range(le//2):\n",
        "    if str[i]==str[le-1-i]:\n",
        "       return \"yes\"\n",
        "    else:\n",
        "      return \"no\"\n",
        "palindrome(\"MDAM\")\n"
      ]
    },
    {
      "cell_type": "markdown",
      "metadata": {
        "id": "3UjR3iztW_63"
      },
      "source": [
        "6. Write a Python program to find the prime numbers in a given range."
      ]
    },
    {
      "cell_type": "code",
      "execution_count": null,
      "metadata": {
        "colab": {
          "base_uri": "https://localhost:8080/"
        },
        "id": "0brQnuXThA7-",
        "outputId": "a4c9ba65-b847-4ecc-bf96-b0a91348b202"
      },
      "outputs": [
        {
          "name": "stdout",
          "output_type": "stream",
          "text": [
            "[11, 13, 17, 19, 23, 29, 31, 37, 41, 43, 47, 53, 59, 61, 67, 71, 73, 79, 83, 89, 97]\n"
          ]
        }
      ],
      "source": [
        "ls=[]\n",
        "def prime(x,y):\n",
        "    for i in range(x,y+1):\n",
        "      count=0\n",
        "      for j in range(1,y+1):\n",
        "        if i%j==0:\n",
        "          count=count+1\n",
        "      if count==2:\n",
        "        ls.append(i)\n",
        "    return ls\n",
        "y=prime(10,100)\n",
        "print(y)"
      ]
    },
    {
      "cell_type": "markdown",
      "metadata": {
        "id": "waotOQtGXGGx"
      },
      "source": [
        "7. Write a Python program to find the common elements between two lists.\n"
      ]
    },
    {
      "cell_type": "code",
      "execution_count": null,
      "metadata": {
        "colab": {
          "base_uri": "https://localhost:8080/"
        },
        "id": "c_xvmzfWXKZb",
        "outputId": "27620ad9-4706-4f2c-a7f0-39e98c88c447"
      },
      "outputs": [
        {
          "data": {
            "text/plain": [
              "[2, 3, 4]"
            ]
          },
          "execution_count": 83,
          "metadata": {},
          "output_type": "execute_result"
        }
      ],
      "source": [
        "ls=[1,2,3,4,5,6,78]\n",
        "ls1=[2,3,4,59,12]\n",
        "ls2=[]\n",
        "def similar_nos(ls,ls1):\n",
        "  for i in ls:\n",
        "    for j in ls1:\n",
        "      if i==j:\n",
        "        ls2.append(i)\n",
        "  return ls2\n",
        "similar_nos(ls,ls1)"
      ]
    },
    {
      "cell_type": "markdown",
      "metadata": {
        "id": "SZLOqS3tXK2T"
      },
      "source": [
        "8. Write a Python program to count the occurrences of a specific element in a list."
      ]
    },
    {
      "cell_type": "code",
      "execution_count": null,
      "metadata": {
        "colab": {
          "base_uri": "https://localhost:8080/"
        },
        "id": "r6hssVeJiPC5",
        "outputId": "a1ff8000-d636-4f1d-b0bf-b5bef85eb7f6"
      },
      "outputs": [
        {
          "name": "stdout",
          "output_type": "stream",
          "text": [
            "1 2\n",
            "2 3\n",
            "3 4\n",
            "4 2\n",
            "5 1\n",
            "6 2\n"
          ]
        }
      ],
      "source": [
        "ls=[1,2,3,4,3,2,3,1,5,6,6,4,3,2]\n",
        "l=[]\n",
        "def occu(ls):\n",
        "  for i in ls:\n",
        "    if i not in l:\n",
        "      l.append(i)\n",
        "  for i in l:\n",
        "     print(i,ls.count(i))\n",
        "occu(ls)\n"
      ]
    },
    {
      "cell_type": "markdown",
      "metadata": {
        "id": "Zu3dzbbyXSli"
      },
      "source": [
        "9. Write a Python program to reverse a string without using built-in functions.\n",
        "\n",
        "---\n",
        "\n"
      ]
    },
    {
      "cell_type": "code",
      "execution_count": null,
      "metadata": {
        "colab": {
          "base_uri": "https://localhost:8080/",
          "height": 35
        },
        "id": "QdJg2SHCjxuS",
        "outputId": "174eb93f-49b3-4d1b-95f7-94c9d8b47683"
      },
      "outputs": [
        {
          "data": {
            "application/vnd.google.colaboratory.intrinsic+json": {
              "type": "string"
            },
            "text/plain": [
              "'MADM'"
            ]
          },
          "execution_count": 97,
          "metadata": {},
          "output_type": "execute_result"
        }
      ],
      "source": [
        "def reverse(str):\n",
        "  reverse=str[::-1]\n",
        "  return reverse\n",
        "reverse(\"MDAM\")\n"
      ]
    },
    {
      "cell_type": "markdown",
      "metadata": {
        "id": "PI9DxJaLXZ3p"
      },
      "source": [
        "10.Write a Python program to find the second largest element in a list."
      ]
    },
    {
      "cell_type": "code",
      "execution_count": null,
      "metadata": {
        "colab": {
          "base_uri": "https://localhost:8080/"
        },
        "id": "bji7Zbdkk7XL",
        "outputId": "33511d59-4048-4216-aef6-847363369729"
      },
      "outputs": [
        {
          "output_type": "execute_result",
          "data": {
            "text/plain": [
              "[1, 2, 3, 5, 4, 6, 5, 122, 19]"
            ]
          },
          "metadata": {},
          "execution_count": 125
        }
      ],
      "source": [
        "ls=[1,2,3,5,4,6,5,122,19]\n",
        "min=ls[0]\n",
        "def sort(ls):\n",
        "  ls1=[]\n",
        "  min=ls[0]\n",
        "  for i in ls:\n",
        "    if i>min:\n",
        "      ls1.append(i)\n",
        "    else:\n",
        "      ls1.append(min)\n",
        "    i=min\n",
        "  return ls1\n",
        "sort(ls)"
      ]
    },
    {
      "cell_type": "code",
      "source": [
        "def sorting(ls):\n",
        "  for i in range(0,len(ls)):\n",
        "    for j in range(i+1,len(ls)):\n",
        "      if ls[i]<=ls[j]:\n",
        "        ls[i],ls[j]=ls[j],ls[i]\n",
        "  sec=ls[1]\n",
        "  return sec\n",
        "s=sorting(ls)\n",
        "s"
      ],
      "metadata": {
        "colab": {
          "base_uri": "https://localhost:8080/"
        },
        "id": "qQiGccgG9ZO9",
        "outputId": "1cc8c57d-9381-4343-d95a-a729bb9b3940"
      },
      "execution_count": null,
      "outputs": [
        {
          "output_type": "execute_result",
          "data": {
            "text/plain": [
              "15"
            ]
          },
          "metadata": {},
          "execution_count": 27
        }
      ]
    },
    {
      "cell_type": "markdown",
      "metadata": {
        "id": "CulHxqX7XdLv"
      },
      "source": [
        "11. Write a Python program to find the sum of digits of a given number.\n"
      ]
    },
    {
      "cell_type": "code",
      "source": [
        "N=int(input(\"Enter your digits : \"))\n",
        "def addition(n):\n",
        "  sum=0\n",
        "  for i in str(n):\n",
        "     sum=int(i)+sum\n",
        "  return sum\n",
        "addition(N)"
      ],
      "metadata": {
        "colab": {
          "base_uri": "https://localhost:8080/"
        },
        "id": "0yo2mXC9BizV",
        "outputId": "7af8307a-8a43-4b62-8130-d9a9df373e82"
      },
      "execution_count": null,
      "outputs": [
        {
          "name": "stdout",
          "output_type": "stream",
          "text": [
            "Enter your digits : 5688\n"
          ]
        },
        {
          "output_type": "execute_result",
          "data": {
            "text/plain": [
              "27"
            ]
          },
          "metadata": {},
          "execution_count": 31
        }
      ]
    },
    {
      "cell_type": "markdown",
      "source": [
        "12.Write a Python program to remove duplicates from a list.\n"
      ],
      "metadata": {
        "id": "kVmC75CtAUT2"
      }
    },
    {
      "cell_type": "code",
      "source": [
        "ls=[1,2,3,4,5,6,2,3,9,8,7,6,3]\n",
        "def duplicates(ls):\n",
        "  ls1=[]\n",
        "  for i in ls:\n",
        "      if i not in ls1:\n",
        "        ls1.append(i)\n",
        "  return ls1\n",
        "duplicates(ls)"
      ],
      "metadata": {
        "colab": {
          "base_uri": "https://localhost:8080/"
        },
        "id": "QDzsRsv9CnZq",
        "outputId": "5ba897a9-e4c8-4089-a076-873a4c30619c"
      },
      "execution_count": null,
      "outputs": [
        {
          "output_type": "execute_result",
          "data": {
            "text/plain": [
              "[1, 2, 3, 4, 5, 6, 9, 8, 7]"
            ]
          },
          "metadata": {},
          "execution_count": 35
        }
      ]
    },
    {
      "cell_type": "markdown",
      "source": [],
      "metadata": {
        "id": "5Fvjb6H5Cle7"
      }
    },
    {
      "cell_type": "markdown",
      "source": [
        "13.Write a Python program to find the length of the longest consecutive sequence of\n",
        "a given list of integers.\n",
        "\n",
        "\n"
      ],
      "metadata": {
        "id": "jUUyZ7soAaZS"
      }
    },
    {
      "cell_type": "code",
      "source": [],
      "metadata": {
        "id": "T8mh1BB_EfzJ"
      },
      "execution_count": null,
      "outputs": []
    },
    {
      "cell_type": "markdown",
      "source": [
        "14.Write a Python program to determine if a given year is a leap year or not."
      ],
      "metadata": {
        "id": "HZY9okCYAedp"
      }
    },
    {
      "cell_type": "code",
      "source": [
        "n=int(input(\"Enter year : \"))\n",
        "def leap_or_not(n):\n",
        "  if n%400==0 or n%4==0 and n %100!=0:\n",
        "    print(f\"{n} is leap year\")\n",
        "  else :\n",
        "    print(f\"{n} is not leap year\")\n",
        "leap_or_not(n)"
      ],
      "metadata": {
        "colab": {
          "base_uri": "https://localhost:8080/"
        },
        "id": "_G3iztriIFVZ",
        "outputId": "6bb582ee-2228-4277-a285-a422a8b10421"
      },
      "execution_count": null,
      "outputs": [
        {
          "output_type": "stream",
          "name": "stdout",
          "text": [
            "Enter year : 2100\n",
            "2100 is not leap year\n"
          ]
        }
      ]
    },
    {
      "cell_type": "markdown",
      "source": [
        "15.Write a Python program to find the square root of a given number"
      ],
      "metadata": {
        "id": "VNFX6my0AiVb"
      }
    },
    {
      "cell_type": "code",
      "source": [
        "n=int(input(\"Enter year : \"))\n",
        "def squre_root(n):\n",
        "  s=n**0.5\n",
        "  return s\n",
        "squre_root(n)"
      ],
      "metadata": {
        "colab": {
          "base_uri": "https://localhost:8080/"
        },
        "id": "c7FVMK4UJQT8",
        "outputId": "72cf00a8-3243-4e53-d3bb-03925d13c02a"
      },
      "execution_count": null,
      "outputs": [
        {
          "name": "stdout",
          "output_type": "stream",
          "text": [
            "Enter year : 25\n"
          ]
        },
        {
          "output_type": "execute_result",
          "data": {
            "text/plain": [
              "5.0"
            ]
          },
          "metadata": {},
          "execution_count": 41
        }
      ]
    },
    {
      "cell_type": "markdown",
      "source": [
        "# **Set B**"
      ],
      "metadata": {
        "id": "oCPYjoPbLFDf"
      }
    },
    {
      "cell_type": "markdown",
      "source": [
        "1. Write a Python program to find the largest sum of any two elements in a given list\n",
        "of integers."
      ],
      "metadata": {
        "id": "_CWuVIGzL8ug"
      }
    },
    {
      "cell_type": "code",
      "source": [
        "ls=[1,2,3,4,5,6,7,8,9,8]\n",
        "\n",
        "def largest(ls):\n",
        "  for i in range(0,len(ls)):\n",
        "    sum=0\n",
        "    for j in range(i+1,len(ls)):\n",
        "      sum1=ls[i]+ls[j]\n",
        "      if sum1>sum:\n",
        "        sum=sum1\n",
        "  return sum1\n",
        "largest(ls)"
      ],
      "metadata": {
        "colab": {
          "base_uri": "https://localhost:8080/"
        },
        "id": "w2dbctcDMskT",
        "outputId": "664f1818-d837-4c9d-9e3a-6823fc9242bf"
      },
      "execution_count": null,
      "outputs": [
        {
          "output_type": "execute_result",
          "data": {
            "text/plain": [
              "17"
            ]
          },
          "metadata": {},
          "execution_count": 51
        }
      ]
    },
    {
      "cell_type": "markdown",
      "source": [
        "2. Write a Python program to remove all the vowels from a given string.\n"
      ],
      "metadata": {
        "id": "Vd9Dbs8SMBxg"
      }
    },
    {
      "cell_type": "code",
      "source": [
        "x=\"Ainhrdtaxsvcgsxxqqebdoiopu\"\n",
        "vowels=['a','e','i','o','u']\n",
        "def no_vowels(x):\n",
        "  y=x.lower()\n",
        "  print(y)\n",
        "  for i in y:\n",
        "    for j in vowels:\n",
        "      if i==j:\n",
        "        y=y.replace(i,'')\n",
        "  return y\n",
        "no_vowels(x)"
      ],
      "metadata": {
        "colab": {
          "base_uri": "https://localhost:8080/",
          "height": 53
        },
        "id": "7GtwtAuLO6lH",
        "outputId": "332cf3d5-13d8-4be4-ee80-e4eeb81b2d05"
      },
      "execution_count": null,
      "outputs": [
        {
          "output_type": "stream",
          "name": "stdout",
          "text": [
            "ainhrdtaxsvcgsxxqqebdoiopu\n"
          ]
        },
        {
          "output_type": "execute_result",
          "data": {
            "text/plain": [
              "'nhrdtxsvcgsxxqqbdp'"
            ],
            "application/vnd.google.colaboratory.intrinsic+json": {
              "type": "string"
            }
          },
          "metadata": {},
          "execution_count": 67
        }
      ]
    },
    {
      "cell_type": "markdown",
      "source": [
        "3. Write a Python program to find the common characters between two given\n",
        "strings.\n"
      ],
      "metadata": {
        "id": "OuAN3m7jMCSJ"
      }
    },
    {
      "cell_type": "code",
      "source": [
        "s=\"Lucky Reddy\"\n",
        "a=\"Ahalya Reddy\"\n",
        "def common_char(s,a):\n",
        "  ls=[]\n",
        "  for i in s.lower():\n",
        "    for j in a.lower():\n",
        "      if i==j:\n",
        "        if i not in ls:\n",
        "          ls.append(i)\n",
        "  return ls\n",
        "common_char(s,a)"
      ],
      "metadata": {
        "colab": {
          "base_uri": "https://localhost:8080/"
        },
        "id": "V9GWBF1eTv2j",
        "outputId": "f99fca78-0a7b-4627-d44c-44c5a4becc26"
      },
      "execution_count": null,
      "outputs": [
        {
          "output_type": "execute_result",
          "data": {
            "text/plain": [
              "['l', 'y', ' ', 'r', 'e', 'd']"
            ]
          },
          "metadata": {},
          "execution_count": 72
        }
      ]
    },
    {
      "cell_type": "markdown",
      "source": [
        "4. Write a Python program to find the length of the longest word in a given\n",
        "sentence."
      ],
      "metadata": {
        "id": "1CKeaVxeMchL"
      }
    },
    {
      "cell_type": "code",
      "source": [
        "y=\"I am luckyggga reddy addiwar\"\n",
        "ls=[]\n",
        "def longest(y):\n",
        "  ln=0\n",
        "  for i in y.split():\n",
        "     if len(i)>ln:\n",
        "       ln=len(i)\n",
        "       n=i\n",
        "  print(n,ln)\n",
        "longest(y)"
      ],
      "metadata": {
        "colab": {
          "base_uri": "https://localhost:8080/"
        },
        "id": "uxs6_hG8khIC",
        "outputId": "d6585a51-d79d-4221-c0c3-ec3946c3fc66"
      },
      "execution_count": null,
      "outputs": [
        {
          "output_type": "stream",
          "name": "stdout",
          "text": [
            "luckyggga 9\n"
          ]
        }
      ]
    },
    {
      "cell_type": "markdown",
      "source": [
        "5. Write a Python program to find the product of all the elements in a list"
      ],
      "metadata": {
        "id": "1CkvLYwRMo-c"
      }
    },
    {
      "cell_type": "code",
      "source": [
        "ls=[1,2,3,4,5,6]\n",
        "def pro(ls):\n",
        "  p=1\n",
        "  for i in ls:\n",
        "     p=p*i\n",
        "  return p\n",
        "pro(ls)\n"
      ],
      "metadata": {
        "colab": {
          "base_uri": "https://localhost:8080/"
        },
        "id": "Vog9Q0DzK8Bc",
        "outputId": "f353c02d-552a-4721-af06-c7ff6371c42c"
      },
      "execution_count": null,
      "outputs": [
        {
          "output_type": "execute_result",
          "data": {
            "text/plain": [
              "720"
            ]
          },
          "metadata": {},
          "execution_count": 73
        }
      ]
    },
    {
      "cell_type": "markdown",
      "source": [
        "6. Write a Python program to check if a given word is a palindrome (i.e., reads the\n",
        "same forwards and backwards) by ignoring whitespaces and capitalization."
      ],
      "metadata": {
        "id": "t1CtNXmuXCnc"
      }
    },
    {
      "cell_type": "code",
      "source": [
        "s=input(\"Enter your word : \")\n",
        "def palindrome(s):\n",
        "  b=s.lower()\n",
        "  b=b.replace(\" \",'')\n",
        "  rever=b[::-1]\n",
        "  if rever==b:\n",
        "    print(\"yes\")\n",
        "  else:\n",
        "    print(\"no\")\n",
        "palindrome(s)"
      ],
      "metadata": {
        "colab": {
          "base_uri": "https://localhost:8080/"
        },
        "id": "w1MuJU7kVKYT",
        "outputId": "da85d088-f282-4306-f26d-4dbdbc138190"
      },
      "execution_count": null,
      "outputs": [
        {
          "output_type": "stream",
          "name": "stdout",
          "text": [
            "Enter your word : ma  dam\n",
            "yes\n"
          ]
        }
      ]
    },
    {
      "cell_type": "markdown",
      "source": [
        "7. Write a Python program to find the first non-repeated character in a given string.\n"
      ],
      "metadata": {
        "id": "Di1k1O-MZo1Q"
      }
    },
    {
      "cell_type": "code",
      "source": [
        "st=\"character\"\n",
        "def non_repe(st):\n",
        "  ls=[]\n",
        "  for i in st:\n",
        "    count=0\n",
        "    for j in st:\n",
        "      if i ==j:\n",
        "        count =count+1\n",
        "    if count <2:\n",
        "      ls.append(i)\n",
        "  return ls[0]\n",
        "non_repe(st)\n"
      ],
      "metadata": {
        "colab": {
          "base_uri": "https://localhost:8080/",
          "height": 35
        },
        "id": "t6TIxYbNZyoS",
        "outputId": "8e1624b0-e8b4-4ebd-ae04-1b4c4caa2e58"
      },
      "execution_count": null,
      "outputs": [
        {
          "output_type": "execute_result",
          "data": {
            "text/plain": [
              "'h'"
            ],
            "application/vnd.google.colaboratory.intrinsic+json": {
              "type": "string"
            }
          },
          "metadata": {},
          "execution_count": 120
        }
      ]
    },
    {
      "cell_type": "markdown",
      "source": [
        "8. Write a Python program to check if a given list is sorted in ascending orde"
      ],
      "metadata": {
        "id": "UAUYEnuLZra-"
      }
    },
    {
      "cell_type": "code",
      "source": [
        "ls=[1,2,8,9,3,4,7,8]\n",
        "def sortedd(ls):\n",
        "  min=ls[0]\n",
        "  ls1=[]\n",
        "  for i in ls:\n",
        "    if i>min:\n",
        "      ls1.append(i)\n",
        "    else:\n",
        "      ls1.append(min)\n",
        "      min=i\n",
        "  return ls1\n",
        "y=sorted(ls)\n",
        "print(y)\n",
        "if y==ls:\n",
        "  print(\"True\")\n",
        "else:\n",
        "  print(\"False\")"
      ],
      "metadata": {
        "colab": {
          "base_uri": "https://localhost:8080/"
        },
        "id": "BfTUtA4obu1M",
        "outputId": "3998a600-74ef-4ccb-f5e5-636301c08356"
      },
      "execution_count": null,
      "outputs": [
        {
          "output_type": "stream",
          "name": "stdout",
          "text": [
            "[1, 2, 3, 4, 7, 8, 8, 9]\n",
            "False\n"
          ]
        }
      ]
    },
    {
      "cell_type": "markdown",
      "source": [
        "9. Write a Python program to find the sum of all even numbers in a given list of\n",
        "integers."
      ],
      "metadata": {
        "id": "LhN-SbVTZtB2"
      }
    },
    {
      "cell_type": "code",
      "source": [
        "ls=[1,2,3,4,5,6,7,8,9,0,1,2,3,4,5,677]\n",
        "def sum_even(ls):\n",
        "  sum=0\n",
        "  for i in ls:\n",
        "    if i%2==0:\n",
        "      sum=i+sum\n",
        "  return sum\n",
        "sum_even(ls)\n"
      ],
      "metadata": {
        "colab": {
          "base_uri": "https://localhost:8080/"
        },
        "id": "zssdZweDdG_a",
        "outputId": "169ec219-2a06-40f1-8211-9f814ecbe24a"
      },
      "execution_count": null,
      "outputs": [
        {
          "output_type": "execute_result",
          "data": {
            "text/plain": [
              "26"
            ]
          },
          "metadata": {},
          "execution_count": 109
        }
      ]
    },
    {
      "cell_type": "markdown",
      "source": [
        "10.Write a Python program to check if two strings are anagrams (i.e., have the same\n",
        "characters with the same frequencies)."
      ],
      "metadata": {
        "id": "tVv-c0QvZvkU"
      }
    },
    {
      "cell_type": "code",
      "source": [
        "s=\"Lucky\"\n",
        "y=\"kyluc\"\n",
        "def anagrams(s,y):\n",
        "  for i in s:\n",
        "    for j in y:\n",
        "      if i==j:\n"
      ],
      "metadata": {
        "id": "ofrpiI_2YNKh"
      },
      "execution_count": null,
      "outputs": []
    },
    {
      "cell_type": "markdown",
      "source": [
        "11. Write a Python program to rotate the elements of a list by a given number of\n",
        "positions to the right.\n"
      ],
      "metadata": {
        "id": "6fJIBm9AhvUa"
      }
    },
    {
      "cell_type": "code",
      "source": [
        "ls=[1,2,3,4,5,6,7,8]\n",
        "ls1=[]\n",
        "def rotate(ls):\n",
        "   for i in ls[::-1]:\n",
        "    ls1.append(i)\n",
        "   return ls1\n",
        "rotate(ls)\n"
      ],
      "metadata": {
        "colab": {
          "base_uri": "https://localhost:8080/"
        },
        "id": "QPNuHFVDiYrx",
        "outputId": "0a9cfef0-5100-41cd-d34c-380613d14d81"
      },
      "execution_count": null,
      "outputs": [
        {
          "output_type": "execute_result",
          "data": {
            "text/plain": [
              "[8, 7, 6, 5, 4, 3, 2, 1]"
            ]
          },
          "metadata": {},
          "execution_count": 111
        }
      ]
    },
    {
      "cell_type": "markdown",
      "source": [
        "12.Write a Python program to find the common elements among three given lists.\n"
      ],
      "metadata": {
        "id": "ZuZScvgXkKVK"
      }
    },
    {
      "cell_type": "code",
      "source": [
        "ls=[1,2,3,4,5,6,7,8,9]\n",
        "ls1=[1,4,5,6,6,7]\n",
        "ls2=[1,4,5,6,7,9,0,3,112]\n",
        "ls3=[]\n",
        "def common(ls,ls1,ls2):\n",
        "  for i in ls:\n",
        "    for j in ls1:\n",
        "      for m in ls2:\n",
        "        if i==j and i==m:\n",
        "          if i not in ls3:\n",
        "            ls3.append(i)\n",
        "  return ls3\n",
        "common(ls,ls1,ls2)\n"
      ],
      "metadata": {
        "colab": {
          "base_uri": "https://localhost:8080/"
        },
        "id": "C4hDiWVokWA_",
        "outputId": "dcd2d131-00d2-4aaf-b07e-9937404cf83e"
      },
      "execution_count": null,
      "outputs": [
        {
          "output_type": "execute_result",
          "data": {
            "text/plain": [
              "[1, 4, 5, 6, 7]"
            ]
          },
          "metadata": {},
          "execution_count": 33
        }
      ]
    },
    {
      "cell_type": "markdown",
      "source": [
        "13.Write a Python program to count the occurrences of each word in a given text."
      ],
      "metadata": {
        "id": "bLvCzx-rkMO8"
      }
    },
    {
      "cell_type": "code",
      "source": [
        "y=\"I am lucky addiwar , My name is lucky addiwar\"\n",
        "y1=y.split()\n",
        "y2=set(y1)\n",
        "print(y1)\n",
        "def count_word(y):\n",
        "  for i in y2:\n",
        "    count=0\n",
        "    for x in y1:\n",
        "      if i==x:\n",
        "        count=count+1\n",
        "    print(i,count)\n",
        "m =count_word(y)\n",
        "m"
      ],
      "metadata": {
        "colab": {
          "base_uri": "https://localhost:8080/"
        },
        "id": "SOCxLbcbmU6-",
        "outputId": "a69faec6-c66f-44a5-fab4-875ad66996ac"
      },
      "execution_count": null,
      "outputs": [
        {
          "output_type": "stream",
          "name": "stdout",
          "text": [
            "['I', 'am', 'lucky', 'addiwar', ',', 'My', 'name', 'is', 'lucky', 'addiwar']\n",
            "lucky 2\n",
            "I 1\n",
            "is 1\n",
            "addiwar 2\n",
            "name 1\n",
            "My 1\n",
            "am 1\n",
            ", 1\n"
          ]
        }
      ]
    },
    {
      "cell_type": "code",
      "source": [
        "ls=[1,2,3,4,3,2,3,1,5,6,6,4,3,2]\n",
        "l=[]\n",
        "for i in ls:\n",
        "  if i not in l:\n",
        "    l.append(i)\n",
        "for i in l:\n",
        "    print(i,ls.count(i))"
      ],
      "metadata": {
        "id": "Kv-NLeMvnLas"
      },
      "execution_count": null,
      "outputs": []
    },
    {
      "cell_type": "markdown",
      "source": [
        "14.Write a Python program to find the smallest missing positive integer in a given list\n",
        "of integer"
      ],
      "metadata": {
        "id": "IzKOcZQ6kN9u"
      }
    },
    {
      "cell_type": "code",
      "source": [],
      "metadata": {
        "id": "F-eLtesiD8Re"
      },
      "execution_count": null,
      "outputs": []
    },
    {
      "cell_type": "markdown",
      "source": [
        "15.Write a Python program to find the maximum occurring character in a given\n",
        "strin"
      ],
      "metadata": {
        "id": "QGfMqLzukQmf"
      }
    },
    {
      "cell_type": "code",
      "source": [
        "St = \"Luckyxnsjbehvnccmchje\"\n",
        "\n",
        "def max_occ(St):\n",
        "    max_count = 0\n",
        "    for i in set(St):\n",
        "        count = 0\n",
        "        for j in list(St):\n",
        "            if i == j:\n",
        "                count += 1\n",
        "        if count > max_count:\n",
        "            max_count = count\n",
        "            max_char = i\n",
        "\n",
        "    print(f\"{max_char} , {max_count} \")\n",
        "\n",
        "max_occ(St)\n"
      ],
      "metadata": {
        "colab": {
          "base_uri": "https://localhost:8080/"
        },
        "id": "mfAuwdVPMwv9",
        "outputId": "3caa99d8-023d-43a8-8259-d546c139bb1f"
      },
      "execution_count": null,
      "outputs": [
        {
          "output_type": "stream",
          "name": "stdout",
          "text": [
            "c , 4 \n"
          ]
        }
      ]
    },
    {
      "cell_type": "code",
      "source": [
        "St=\"Luckyxnsjbehvnccmchje\"\n",
        "ls=[]\n",
        "def max_occ(St):\n",
        "  for i in St.lower():\n",
        "    ls.append(i)\n",
        "  count=0\n",
        "  for j in ls:\n",
        "    if j in ls:\n",
        "      count=count+1\n",
        "    print(j,count)\n",
        "max_occ(St)\n"
      ],
      "metadata": {
        "id": "Oz9vQaSNjnFG",
        "colab": {
          "base_uri": "https://localhost:8080/"
        },
        "outputId": "f32bb263-3d93-459a-8103-a5a4af1ccddb"
      },
      "execution_count": null,
      "outputs": [
        {
          "output_type": "stream",
          "name": "stdout",
          "text": [
            "l 1\n",
            "u 2\n",
            "c 3\n",
            "k 4\n",
            "y 5\n",
            "x 6\n",
            "n 7\n",
            "s 8\n",
            "j 9\n",
            "b 10\n",
            "e 11\n",
            "h 12\n",
            "v 13\n",
            "n 14\n",
            "c 15\n",
            "c 16\n",
            "m 17\n",
            "c 18\n",
            "h 19\n",
            "j 20\n",
            "e 21\n"
          ]
        }
      ]
    },
    {
      "cell_type": "code",
      "source": [
        "name=[\"Lucky\",\"Sadvika\"]\n",
        "email=[\"lucky@gmail.com\",\"sadvika@gmail.com\"]\n",
        "marks=[12,15]\n",
        "s=[\"p\",\"p\"]\n",
        "st={}\n",
        "\n",
        "cnt=1\n",
        "for i ,j,k,l in zip(name,email,marks,s):\n",
        "   d={}\n",
        "   d['name']=i\n",
        "   d['email']=j\n",
        "   d['marks']=k\n",
        "   d['status']=l\n",
        "   st[cnt]=d\n",
        "   cnt=cnt+1\n",
        "\n",
        "print(st)"
      ],
      "metadata": {
        "colab": {
          "base_uri": "https://localhost:8080/"
        },
        "id": "FAlsfhNC4Z6W",
        "outputId": "820dedd9-2d68-47a6-967b-36ba26c09a36"
      },
      "execution_count": null,
      "outputs": [
        {
          "output_type": "stream",
          "name": "stdout",
          "text": [
            "{1: {'name': 'Lucky', 'email': 'lucky@gmail.com', 'marks': 12, 'status': 'p'}, 2: {'name': 'Sadvika', 'email': 'sadvika@gmail.com', 'marks': 15, 'status': 'p'}}\n"
          ]
        }
      ]
    },
    {
      "cell_type": "code",
      "source": [],
      "metadata": {
        "colab": {
          "base_uri": "https://localhost:8080/",
          "height": 106
        },
        "id": "0CLQJkhV43-k",
        "outputId": "4a6f0d22-5d4d-4a5b-e2b5-aa929e71a2e0"
      },
      "execution_count": null,
      "outputs": [
        {
          "output_type": "error",
          "ename": "SyntaxError",
          "evalue": "cannot assign to function call here. Maybe you meant '==' instead of '='? (<ipython-input-137-e77dd30f1745>, line 1)",
          "traceback": [
            "\u001b[0;36m  File \u001b[0;32m\"<ipython-input-137-e77dd30f1745>\"\u001b[0;36m, line \u001b[0;32m1\u001b[0m\n\u001b[0;31m    st.keys()=name\u001b[0m\n\u001b[0m    ^\u001b[0m\n\u001b[0;31mSyntaxError\u001b[0m\u001b[0;31m:\u001b[0m cannot assign to function call here. Maybe you meant '==' instead of '='?\n"
          ]
        }
      ]
    },
    {
      "cell_type": "code",
      "source": [
        "y=lambda x :x%2==0\n",
        "n=y(10)\n",
        "if n is True:\n",
        "  print(\"yes\")\n",
        "else:\n",
        "  print(\"no\")\n"
      ],
      "metadata": {
        "colab": {
          "base_uri": "https://localhost:8080/"
        },
        "id": "gnHcrMIS7kaR",
        "outputId": "0593ba47-9ac1-4291-b848-34c28ea84c89"
      },
      "execution_count": null,
      "outputs": [
        {
          "output_type": "stream",
          "name": "stdout",
          "text": [
            "yes\n"
          ]
        }
      ]
    },
    {
      "cell_type": "code",
      "source": [
        "y=lambda x :\"even\" if x%2==0 else \"odd\"\n",
        "y(10)"
      ],
      "metadata": {
        "colab": {
          "base_uri": "https://localhost:8080/",
          "height": 35
        },
        "id": "_a_OczQPIkWg",
        "outputId": "638af3c3-355f-4a7e-9e40-3bf6dcc6909a"
      },
      "execution_count": null,
      "outputs": [
        {
          "output_type": "execute_result",
          "data": {
            "text/plain": [
              "'even'"
            ],
            "application/vnd.google.colaboratory.intrinsic+json": {
              "type": "string"
            }
          },
          "metadata": {},
          "execution_count": 184
        }
      ]
    },
    {
      "cell_type": "code",
      "source": [
        "x=lambda x,y:f\"{x} is max\" if x>y else  f\"{y} is max\"\n",
        "x(1,3)"
      ],
      "metadata": {
        "colab": {
          "base_uri": "https://localhost:8080/",
          "height": 35
        },
        "id": "Yu_90E87JO-J",
        "outputId": "371485a4-01a3-49bd-d105-3a09d2f84fa4"
      },
      "execution_count": null,
      "outputs": [
        {
          "output_type": "execute_result",
          "data": {
            "text/plain": [
              "'3 is max'"
            ],
            "application/vnd.google.colaboratory.intrinsic+json": {
              "type": "string"
            }
          },
          "metadata": {},
          "execution_count": 186
        }
      ]
    },
    {
      "cell_type": "code",
      "source": [
        "squre=lambda x:x**2\n",
        "ls=[1,2,3,4,5]\n",
        "y=list(map(squre, ls))\n",
        "y"
      ],
      "metadata": {
        "colab": {
          "base_uri": "https://localhost:8080/"
        },
        "id": "ShYpCuWZJltc",
        "outputId": "b6f746d2-ad60-47a9-aaa2-a88b9a9d01cf"
      },
      "execution_count": null,
      "outputs": [
        {
          "output_type": "execute_result",
          "data": {
            "text/plain": [
              "[1, 4, 9, 16, 25]"
            ]
          },
          "metadata": {},
          "execution_count": 192
        }
      ]
    },
    {
      "cell_type": "code",
      "source": [
        "from functools import reduce\n",
        "y=reduce(lambda x,y:x if x>y else y ,[1,2,4,52])\n",
        "y\n"
      ],
      "metadata": {
        "colab": {
          "base_uri": "https://localhost:8080/"
        },
        "id": "dR5pA3JmKXxB",
        "outputId": "bcb682e7-37e3-4067-a22c-cf51bcbc4198"
      },
      "execution_count": null,
      "outputs": [
        {
          "output_type": "execute_result",
          "data": {
            "text/plain": [
              "52"
            ]
          },
          "metadata": {},
          "execution_count": 199
        }
      ]
    },
    {
      "cell_type": "code",
      "source": [],
      "metadata": {
        "id": "o0B7n6JgS2oh"
      },
      "execution_count": null,
      "outputs": []
    }
  ],
  "metadata": {
    "colab": {
      "provenance": []
    },
    "kernelspec": {
      "display_name": "Python 3",
      "name": "python3"
    },
    "language_info": {
      "name": "python"
    }
  },
  "nbformat": 4,
  "nbformat_minor": 0
}